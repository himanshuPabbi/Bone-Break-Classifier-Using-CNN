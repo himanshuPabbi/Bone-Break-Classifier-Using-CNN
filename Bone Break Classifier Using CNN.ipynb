{
 "cells": [
  {
   "cell_type": "code",
   "execution_count": 1,
   "id": "8ef57fbf",
   "metadata": {},
   "outputs": [
    {
     "name": "stdout",
     "output_type": "stream",
     "text": [
      "WARNING:tensorflow:From C:\\Users\\himan\\anaconda3\\Lib\\site-packages\\keras\\src\\losses.py:2976: The name tf.losses.sparse_softmax_cross_entropy is deprecated. Please use tf.compat.v1.losses.sparse_softmax_cross_entropy instead.\n",
      "\n"
     ]
    }
   ],
   "source": [
    "# Importing the Keras libraries and packages\n",
    "from keras.models import Sequential\n",
    "from keras.layers import Convolution2D\n",
    "from keras.layers import MaxPooling2D\n",
    "from keras.layers import Flatten\n",
    "from keras.layers import Dense\n",
    "from keras.models import model_from_json\n",
    "import tensorflow as tf\n",
    "\n",
    "\n",
    "\n",
    "from tensorflow.keras.preprocessing.image import ImageDataGenerator\n",
    "\n",
    "import warnings\n",
    "warnings.filterwarnings(\"ignore\")"
   ]
  },
  {
   "cell_type": "code",
   "execution_count": 2,
   "id": "195b6afd",
   "metadata": {},
   "outputs": [],
   "source": [
    "import numpy as py\n",
    "from matplotlib import pyplot as plt"
   ]
  },
  {
   "cell_type": "code",
   "execution_count": 3,
   "id": "aec1485e",
   "metadata": {},
   "outputs": [],
   "source": [
    "batch_size = 64\n"
   ]
  },
  {
   "cell_type": "code",
   "execution_count": 4,
   "id": "00471f3a",
   "metadata": {},
   "outputs": [],
   "source": [
    "# All images will be rescaled by 1./255\n",
    "train_datagen = ImageDataGenerator(rescale=1/255)"
   ]
  },
  {
   "cell_type": "code",
   "execution_count": 6,
   "id": "c88452eb",
   "metadata": {},
   "outputs": [
    {
     "name": "stdout",
     "output_type": "stream",
     "text": [
      "Found 1685 images belonging to 12 classes.\n"
     ]
    }
   ],
   "source": [
    "# Flow training images in batches of 128 using train_datagen generator\n",
    "train_generator = train_datagen.flow_from_directory(\n",
    "        'C:\\\\Users\\\\himan\\\\Downloads\\\\archive (2)',  # This is the source directory for training images\n",
    "        target_size=(200, 200),  # All images will be resized to 200 x 200\n",
    "        batch_size=batch_size,\n",
    "        # Specify the classes explicitly\n",
    "        classes = ['Avulsion fracture','Comminuted fracture','Compression-Crush fracture','Fracture Dislocation',\n",
    "                  'Greenstick fracture','Hairline Fracture','Impacted fracture','Intra-articular fracture',\n",
    "                  'Longitudinal fracture','Oblique fracture','Pathological fracture','Spiral Fracture'],\n",
    "        # Since we use categorical_crossentropy loss, we need categorical labels\n",
    "        class_mode='categorical')"
   ]
  },
  {
   "cell_type": "code",
   "execution_count": 7,
   "id": "ae09df03",
   "metadata": {},
   "outputs": [
    {
     "name": "stdout",
     "output_type": "stream",
     "text": [
      "WARNING:tensorflow:From C:\\Users\\himan\\anaconda3\\Lib\\site-packages\\keras\\src\\backend.py:873: The name tf.get_default_graph is deprecated. Please use tf.compat.v1.get_default_graph instead.\n",
      "\n",
      "WARNING:tensorflow:From C:\\Users\\himan\\anaconda3\\Lib\\site-packages\\keras\\src\\layers\\pooling\\max_pooling2d.py:161: The name tf.nn.max_pool is deprecated. Please use tf.nn.max_pool2d instead.\n",
      "\n"
     ]
    }
   ],
   "source": [
    "model = tf.keras.models.Sequential([\n",
    "    # Note the input shape is the desired size of the image 200x 200 with 3 bytes color\n",
    "    # The first convolution\n",
    "    tf.keras.layers.Conv2D(16, (3,3), activation='relu', input_shape=(200, 200, 3)),\n",
    "    tf.keras.layers.MaxPooling2D(2, 2),\n",
    "    # The second convolution\n",
    "    tf.keras.layers.Conv2D(32, (3,3), activation='relu'),\n",
    "    tf.keras.layers.MaxPooling2D(2,2),\n",
    "    # The third convolution\n",
    "    tf.keras.layers.Conv2D(64, (3,3), activation='relu'),\n",
    "    tf.keras.layers.MaxPooling2D(2,2),\n",
    "    # The fourth convolution\n",
    "    tf.keras.layers.Conv2D(64, (3,3), activation='relu'),\n",
    "    tf.keras.layers.MaxPooling2D(2,2),\n",
    "    # The fifth convolution\n",
    "    tf.keras.layers.Conv2D(64, (3,3), activation='relu'),\n",
    "    tf.keras.layers.MaxPooling2D(2,2),\n",
    "    # Flatten the results to feed into a dense layer\n",
    "    tf.keras.layers.Flatten(),\n",
    "    # 128 neuron in the fully-connected layer\n",
    "    tf.keras.layers.Dense(128, activation='relu'),\n",
    "    # 5 output neurons for 5 classes with the softmax activation\n",
    "    tf.keras.layers.Dense(12, activation='softmax')\n",
    "])"
   ]
  },
  {
   "cell_type": "code",
   "execution_count": 8,
   "id": "cd6e7e76",
   "metadata": {},
   "outputs": [
    {
     "name": "stdout",
     "output_type": "stream",
     "text": [
      "Model: \"sequential\"\n",
      "_________________________________________________________________\n",
      " Layer (type)                Output Shape              Param #   \n",
      "=================================================================\n",
      " conv2d (Conv2D)             (None, 198, 198, 16)      448       \n",
      "                                                                 \n",
      " max_pooling2d (MaxPooling2  (None, 99, 99, 16)        0         \n",
      " D)                                                              \n",
      "                                                                 \n",
      " conv2d_1 (Conv2D)           (None, 97, 97, 32)        4640      \n",
      "                                                                 \n",
      " max_pooling2d_1 (MaxPoolin  (None, 48, 48, 32)        0         \n",
      " g2D)                                                            \n",
      "                                                                 \n",
      " conv2d_2 (Conv2D)           (None, 46, 46, 64)        18496     \n",
      "                                                                 \n",
      " max_pooling2d_2 (MaxPoolin  (None, 23, 23, 64)        0         \n",
      " g2D)                                                            \n",
      "                                                                 \n",
      " conv2d_3 (Conv2D)           (None, 21, 21, 64)        36928     \n",
      "                                                                 \n",
      " max_pooling2d_3 (MaxPoolin  (None, 10, 10, 64)        0         \n",
      " g2D)                                                            \n",
      "                                                                 \n",
      " conv2d_4 (Conv2D)           (None, 8, 8, 64)          36928     \n",
      "                                                                 \n",
      " max_pooling2d_4 (MaxPoolin  (None, 4, 4, 64)          0         \n",
      " g2D)                                                            \n",
      "                                                                 \n",
      " flatten (Flatten)           (None, 1024)              0         \n",
      "                                                                 \n",
      " dense (Dense)               (None, 128)               131200    \n",
      "                                                                 \n",
      " dense_1 (Dense)             (None, 12)                1548      \n",
      "                                                                 \n",
      "=================================================================\n",
      "Total params: 230188 (899.17 KB)\n",
      "Trainable params: 230188 (899.17 KB)\n",
      "Non-trainable params: 0 (0.00 Byte)\n",
      "_________________________________________________________________\n"
     ]
    }
   ],
   "source": [
    "model.summary()\n"
   ]
  },
  {
   "cell_type": "code",
   "execution_count": 9,
   "id": "d7abd0ba",
   "metadata": {},
   "outputs": [
    {
     "name": "stderr",
     "output_type": "stream",
     "text": [
      "WARNING:absl:`lr` is deprecated in Keras optimizer, please use `learning_rate` or use the legacy optimizer, e.g.,tf.keras.optimizers.legacy.RMSprop.\n"
     ]
    }
   ],
   "source": [
    "from tensorflow.keras.optimizers import RMSprop\n",
    "\n",
    "model.compile(loss='categorical_crossentropy',\n",
    "              optimizer=RMSprop(lr=0.001),\n",
    "              metrics=['acc'])\n",
    "\n",
    "total_sample=train_generator.n\n",
    "\n",
    "n_epochs = 30"
   ]
  },
  {
   "cell_type": "code",
   "execution_count": 10,
   "id": "9444e76b",
   "metadata": {},
   "outputs": [
    {
     "name": "stdout",
     "output_type": "stream",
     "text": [
      "Epoch 1/30\n",
      "WARNING:tensorflow:From C:\\Users\\himan\\anaconda3\\Lib\\site-packages\\keras\\src\\utils\\tf_utils.py:492: The name tf.ragged.RaggedTensorValue is deprecated. Please use tf.compat.v1.ragged.RaggedTensorValue instead.\n",
      "\n"
     ]
    },
    {
     "name": "stderr",
     "output_type": "stream",
     "text": [
      "WARNING:tensorflow:From C:\\Users\\himan\\anaconda3\\Lib\\site-packages\\keras\\src\\utils\\tf_utils.py:492: The name tf.ragged.RaggedTensorValue is deprecated. Please use tf.compat.v1.ragged.RaggedTensorValue instead.\n",
      "\n"
     ]
    },
    {
     "name": "stdout",
     "output_type": "stream",
     "text": [
      "WARNING:tensorflow:From C:\\Users\\himan\\anaconda3\\Lib\\site-packages\\keras\\src\\engine\\base_layer_utils.py:384: The name tf.executing_eagerly_outside_functions is deprecated. Please use tf.compat.v1.executing_eagerly_outside_functions instead.\n",
      "\n"
     ]
    },
    {
     "name": "stderr",
     "output_type": "stream",
     "text": [
      "WARNING:tensorflow:From C:\\Users\\himan\\anaconda3\\Lib\\site-packages\\keras\\src\\engine\\base_layer_utils.py:384: The name tf.executing_eagerly_outside_functions is deprecated. Please use tf.compat.v1.executing_eagerly_outside_functions instead.\n",
      "\n"
     ]
    },
    {
     "name": "stdout",
     "output_type": "stream",
     "text": [
      "26/26 [==============================] - 50s 2s/step - loss: 2.4782 - acc: 0.1160\n",
      "Epoch 2/30\n",
      "26/26 [==============================] - 48s 2s/step - loss: 2.4575 - acc: 0.1265\n",
      "Epoch 3/30\n",
      "26/26 [==============================] - 47s 2s/step - loss: 2.4089 - acc: 0.1542\n",
      "Epoch 4/30\n",
      "26/26 [==============================] - 48s 2s/step - loss: 2.3897 - acc: 0.1629\n",
      "Epoch 5/30\n",
      "26/26 [==============================] - 50s 2s/step - loss: 2.3401 - acc: 0.1851\n",
      "Epoch 6/30\n",
      "26/26 [==============================] - 49s 2s/step - loss: 2.2904 - acc: 0.2060\n",
      "Epoch 7/30\n",
      "26/26 [==============================] - 46s 2s/step - loss: 2.1920 - acc: 0.2468\n",
      "Epoch 8/30\n",
      "26/26 [==============================] - 46s 2s/step - loss: 2.1032 - acc: 0.2899\n",
      "Epoch 9/30\n",
      "26/26 [==============================] - 44s 2s/step - loss: 1.9756 - acc: 0.3374\n",
      "Epoch 10/30\n",
      "26/26 [==============================] - 45s 2s/step - loss: 1.8222 - acc: 0.3768\n",
      "Epoch 11/30\n",
      "26/26 [==============================] - 45s 2s/step - loss: 1.6500 - acc: 0.4565\n",
      "Epoch 12/30\n",
      "26/26 [==============================] - 46s 2s/step - loss: 1.5125 - acc: 0.5003\n",
      "Epoch 13/30\n",
      "26/26 [==============================] - 47s 2s/step - loss: 1.3903 - acc: 0.5410\n",
      "Epoch 14/30\n",
      "26/26 [==============================] - 46s 2s/step - loss: 1.2486 - acc: 0.6002\n",
      "Epoch 15/30\n",
      "26/26 [==============================] - 48s 2s/step - loss: 1.1382 - acc: 0.6274\n",
      "Epoch 16/30\n",
      "26/26 [==============================] - 44s 2s/step - loss: 1.0472 - acc: 0.6619\n",
      "Epoch 17/30\n",
      "26/26 [==============================] - 46s 2s/step - loss: 0.9452 - acc: 0.7020\n",
      "Epoch 18/30\n",
      "26/26 [==============================] - 48s 2s/step - loss: 0.8736 - acc: 0.7255\n",
      "Epoch 19/30\n",
      "26/26 [==============================] - 47s 2s/step - loss: 0.8235 - acc: 0.7434\n",
      "Epoch 20/30\n",
      "26/26 [==============================] - 48s 2s/step - loss: 0.7798 - acc: 0.7693\n",
      "Epoch 21/30\n",
      "26/26 [==============================] - 47s 2s/step - loss: 0.7148 - acc: 0.7847\n",
      "Epoch 22/30\n",
      "26/26 [==============================] - 48s 2s/step - loss: 0.6944 - acc: 0.7853\n",
      "Epoch 23/30\n",
      "26/26 [==============================] - 48s 2s/step - loss: 0.6334 - acc: 0.8106\n",
      "Epoch 24/30\n",
      "26/26 [==============================] - 49s 2s/step - loss: 0.6028 - acc: 0.8137\n",
      "Epoch 25/30\n",
      "26/26 [==============================] - 51s 2s/step - loss: 0.6052 - acc: 0.8199\n",
      "Epoch 26/30\n",
      "26/26 [==============================] - 46s 2s/step - loss: 0.5723 - acc: 0.8365\n",
      "Epoch 27/30\n",
      "26/26 [==============================] - 48s 2s/step - loss: 0.5634 - acc: 0.8137\n",
      "Epoch 28/30\n",
      "26/26 [==============================] - 47s 2s/step - loss: 0.5158 - acc: 0.8341\n",
      "Epoch 29/30\n",
      "26/26 [==============================] - 46s 2s/step - loss: 0.5258 - acc: 0.8359\n",
      "Epoch 30/30\n",
      "26/26 [==============================] - 47s 2s/step - loss: 0.5092 - acc: 0.8229\n"
     ]
    }
   ],
   "source": [
    "history = model.fit_generator(\n",
    "        train_generator, \n",
    "        steps_per_epoch=int(total_sample/batch_size),  \n",
    "        epochs=n_epochs,\n",
    "        verbose=1)\n"
   ]
  },
  {
   "cell_type": "code",
   "execution_count": 11,
   "id": "8298c859",
   "metadata": {},
   "outputs": [],
   "source": [
    "model.save('model.h5')\n"
   ]
  },
  {
   "cell_type": "code",
   "execution_count": 12,
   "id": "09f8d099",
   "metadata": {},
   "outputs": [
    {
     "data": {
      "image/png": "[encoded data removed]",
      "text/plain": [
       "<Figure size 640x480 with 1 Axes>"
      ]
     },
     "metadata": {},
     "output_type": "display_data"
    }
   ],
   "source": [
    "#Visualizing loss:\n",
    "fig = plt.figure()\n",
    "plt.plot(history.history['loss'], color='teal',label='loss')\n",
    "#plt.plot(history.history['val_loss'], color='orange',label='val_loss')\n",
    "fig.suptitle('Loss',fontsize=20)\n",
    "plt.legend(loc=\"upper left\")\n",
    "plt.show()"
   ]
  },
  {
   "cell_type": "code",
   "execution_count": 13,
   "id": "27f3a6d3",
   "metadata": {},
   "outputs": [
    {
     "data": {
      "image/png": "[encoded data removed]",
      "text/plain": [
       "<Figure size 640x480 with 1 Axes>"
      ]
     },
     "metadata": {},
     "output_type": "display_data"
    }
   ],
   "source": [
    "#Visualizing loss:\n",
    "fig = plt.figure()\n",
    "plt.plot(history.history['acc'], color='orange',label='acc')\n",
    "#plt.plot(history.history['val_loss'], color='orange',label='val_loss')\n",
    "fig.suptitle('Accuracy',fontsize=20)\n",
    "plt.legend(loc=\"upper left\")\n",
    "plt.show()"
   ]
  },
  {
   "cell_type": "code",
   "execution_count": 14,
   "id": "4f86cab0",
   "metadata": {},
   "outputs": [],
   "source": [
    "import numpy as np\n",
    "from tensorflow.keras.preprocessing import image"
   ]
  },
  {
   "cell_type": "code",
   "execution_count": 30,
   "id": "017b5765",
   "metadata": {},
   "outputs": [],
   "source": [
    "test_image = image.load_img('C:\\\\Users\\\\himan\\\\Downloads\\\\archive (2)\\\\Compression-Crush fracture\\\\Compression-Crush fracture\\\\images9.jpg', target_size = (200,200))\n"
   ]
  },
  {
   "cell_type": "code",
   "execution_count": 31,
   "id": "32aaea11",
   "metadata": {},
   "outputs": [],
   "source": [
    "test_image = np.expand_dims(test_image, axis=0)\n"
   ]
  },
  {
   "cell_type": "code",
   "execution_count": 32,
   "id": "8befd661",
   "metadata": {},
   "outputs": [
    {
     "name": "stdout",
     "output_type": "stream",
     "text": [
      "1/1 [==============================] - 0s 47ms/step\n"
     ]
    }
   ],
   "source": [
    "result = model.predict(test_image)\n"
   ]
  },
  {
   "cell_type": "code",
   "execution_count": 33,
   "id": "90ba2312",
   "metadata": {},
   "outputs": [
    {
     "data": {
      "text/plain": [
       "array([[0., 0., 1., 0., 0., 0., 0., 0., 0., 0., 0., 0.]], dtype=float32)"
      ]
     },
     "execution_count": 33,
     "metadata": {},
     "output_type": "execute_result"
    }
   ],
   "source": [
    "result\n"
   ]
  },
  {
   "cell_type": "code",
   "execution_count": 34,
   "id": "c556d1e7",
   "metadata": {},
   "outputs": [
    {
     "name": "stdout",
     "output_type": "stream",
     "text": [
      "Compression-Crush fracture\n"
     ]
    }
   ],
   "source": [
    "if result[0][0] == 1:\n",
    "    print(\"Avulsion Fracture\")\n",
    "elif result[0][1] == 1:\n",
    "    print(\"Comminuted fracture\")\n",
    "elif result[0][2] == 1:\n",
    "    print(\"Compression-Crush fracture\")\n",
    "elif result[0][3] == 1:\n",
    "    print(\"Fracture Dislocation\")\n",
    "elif result[0][4] == 1:\n",
    "    print(\"Greenstick fracture\")\n",
    "elif result[0][5] == 1:\n",
    "    print(\"Hairline fracture\")\n",
    "elif result[0][6] == 1:\n",
    "    print(\"Impacted Dislocation\")\n",
    "elif result[0][7] == 1:\n",
    "    print(\"Intra-articluar fracture\")\n",
    "elif result[0][8] == 1:\n",
    "    print(\"Longitudinal fracture\")\n",
    "elif result[0][9] == 1:\n",
    "    print(\"Oblique Dislocation\")\n",
    "elif result[0][10] == 1:\n",
    "    print(\"Pathological fracture\")\n",
    "elif result[0][11] == 1:\n",
    "    print(\"Spiral fracture\")\n",
    "else:\n",
    "    print(\"Unknown\")\n"
   ]
  },
  {
   "cell_type": "code",
   "execution_count": null,
   "id": "2cb3ceab",
   "metadata": {},
   "outputs": [],
   "source": []
  }
 ],
 "metadata": {
  "kernelspec": {
   "display_name": "Python 3 (ipykernel)",
   "language": "python",
   "name": "python3"
  },
  "language_info": {
   "codemirror_mode": {
    "name": "ipython",
    "version": 3
   },
   "file_extension": ".py",
   "mimetype": "text/x-python",
   "name": "python",
   "nbconvert_exporter": "python",
   "pygments_lexer": "ipython3",
   "version": "3.11.5"
  }
 },
 "nbformat": 4,
 "nbformat_minor": 5
}
